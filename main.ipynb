{
 "cells": [
  {
   "cell_type": "code",
   "execution_count": 44,
   "metadata": {},
   "outputs": [],
   "source": [
    "import numpy as np\n",
    "import pandas as pd\n",
    "import tensorflow as tf\n",
    "from tensorflow.keras.models import Model\n",
    "from tensorflow.keras.layers import Input, LSTM, Dense, Embedding\n",
    "from tensorflow.keras.preprocessing.text import Tokenizer\n",
    "from tensorflow.keras.preprocessing.sequence import pad_sequences"
   ]
  },
  {
   "cell_type": "code",
   "execution_count": 45,
   "metadata": {},
   "outputs": [],
   "source": [
    "\n",
    "# Load dataset (ANKI format: English \\t French)\n",
    "file_path = \"fra.txt\"  # Update with your dataset path\n",
    "data = pd.read_csv(file_path, delimiter='\\t', header=None, names=['eng', 'fra'])"
   ]
  },
  {
   "cell_type": "code",
   "execution_count": 46,
   "metadata": {},
   "outputs": [],
   "source": [
    "# Preprocess text\n",
    "def preprocess_text(text):\n",
    "    text = text.lower()\n",
    "    text = text.replace(\"\\u202f\", \" \").replace(\"\\xa0\", \" \")\n",
    "    text = text.replace(\"!\", \" !\").replace(\"?\", \" ?\").replace(\",\", \" ,\").replace(\".\", \" .\")\n",
    "    return text\n",
    "\n",
    "data['eng'] = data['eng'].apply(preprocess_text)\n",
    "data['fra'] = data['fra'].apply(lambda x: f\"<start> {preprocess_text(x)} <end>\")"
   ]
  },
  {
   "cell_type": "code",
   "execution_count": 47,
   "metadata": {},
   "outputs": [],
   "source": [
    "# Tokenization\n",
    "eng_tokenizer = Tokenizer()\n",
    "fra_tokenizer = Tokenizer()\n",
    "eng_tokenizer.fit_on_texts(data['eng'])\n",
    "fra_tokenizer.fit_on_texts(data['fra'])\n",
    "\n",
    "eng_sequences = eng_tokenizer.texts_to_sequences(data['eng'])\n",
    "fra_sequences = fra_tokenizer.texts_to_sequences(data['fra'])"
   ]
  },
  {
   "cell_type": "code",
   "execution_count": 48,
   "metadata": {},
   "outputs": [],
   "source": [
    "# Padding\n",
    "max_eng_len = max(len(seq) for seq in eng_sequences)\n",
    "max_fra_len = max(len(seq) for seq in fra_sequences)\n",
    "\n",
    "eng_sequences = pad_sequences(eng_sequences, maxlen=max_eng_len, padding='post')\n",
    "fra_sequences = pad_sequences(fra_sequences, maxlen=max_fra_len, padding='post')"
   ]
  },
  {
   "cell_type": "code",
   "execution_count": 49,
   "metadata": {},
   "outputs": [],
   "source": [
    "# Vocabulary sizes\n",
    "eng_vocab_size = len(eng_tokenizer.word_index) + 1\n",
    "fra_vocab_size = len(fra_tokenizer.word_index) + 1"
   ]
  },
  {
   "cell_type": "code",
   "execution_count": 50,
   "metadata": {},
   "outputs": [],
   "source": [
    "# Define Seq2Seq Model\n",
    "latent_dim = 256"
   ]
  },
  {
   "cell_type": "code",
   "execution_count": 51,
   "metadata": {},
   "outputs": [],
   "source": [
    "# Encoder\n",
    "encoder_inputs = Input(shape=(max_eng_len,))\n",
    "enc_emb = Embedding(eng_vocab_size, latent_dim, mask_zero=True)(encoder_inputs)\n",
    "encoder_lstm = LSTM(latent_dim, return_state=True)\n",
    "encoder_outputs, state_h, state_c = encoder_lstm(enc_emb)\n",
    "encoder_states = [state_h, state_c]"
   ]
  },
  {
   "cell_type": "code",
   "execution_count": 52,
   "metadata": {},
   "outputs": [],
   "source": [
    "# Decoder\n",
    "decoder_inputs = Input(shape=(max_fra_len - 1,))\n",
    "\n",
    "dec_emb = Embedding(fra_vocab_size, latent_dim, mask_zero=True)(decoder_inputs)\n",
    "decoder_lstm = LSTM(latent_dim, return_sequences=True, return_state=True)\n",
    "decoder_outputs, _, _ = decoder_lstm(dec_emb, initial_state=encoder_states)\n",
    "decoder_dense = Dense(fra_vocab_size, activation='softmax')\n",
    "decoder_outputs = decoder_dense(decoder_outputs)"
   ]
  },
  {
   "cell_type": "code",
   "execution_count": 53,
   "metadata": {},
   "outputs": [],
   "source": [
    "# Define and compile model\n",
    "model = Model([encoder_inputs, decoder_inputs], decoder_outputs)\n",
    "model.compile(optimizer='adam', loss='sparse_categorical_crossentropy')\n"
   ]
  },
  {
   "cell_type": "code",
   "execution_count": 54,
   "metadata": {},
   "outputs": [],
   "source": [
    "\n",
    "decoder_input_data = np.array(fra_sequences)[:, :-1]  # Remove <end> token\n",
    "decoder_target_data = np.array(fra_sequences)[:, 1:]  # Remove <start> token\n"
   ]
  },
  {
   "cell_type": "code",
   "execution_count": null,
   "metadata": {},
   "outputs": [
    {
     "name": "stdout",
     "output_type": "stream",
     "text": [
      "  732/11635 [>.............................] - ETA: 1:43:10 - loss: 4.2478"
     ]
    }
   ],
   "source": [
    "model.fit(\n",
    "    [eng_sequences, decoder_input_data], decoder_target_data,\n",
    "    batch_size=10,\n",
    "    epochs=1,\n",
    "    validation_split=0.2\n",
    ")\n"
   ]
  },
  {
   "cell_type": "code",
   "execution_count": null,
   "metadata": {},
   "outputs": [],
   "source": [
    "# Inference models\n",
    "encoder_model = Model(encoder_inputs, encoder_states)\n",
    "\n",
    "decoder_state_input_h = Input(shape=(latent_dim,))\n",
    "decoder_state_input_c = Input(shape=(latent_dim,))\n",
    "decoder_states_inputs = [decoder_state_input_h, decoder_state_input_c]\n",
    "\n",
    "dec_emb2 = Embedding(fra_vocab_size, latent_dim, mask_zero=True)(decoder_inputs)\n",
    "decoder_lstm2 = LSTM(latent_dim, return_sequences=True, return_state=True)\n",
    "decoder_outputs2, state_h2, state_c2 = decoder_lstm2(dec_emb2, initial_state=decoder_states_inputs)\n",
    "decoder_states2 = [state_h2, state_c2]\n",
    "decoder_outputs2 = decoder_dense(decoder_outputs2)\n",
    "\n",
    "decoder_model = Model([decoder_inputs] + decoder_states_inputs, [decoder_outputs2] + decoder_states2)"
   ]
  },
  {
   "cell_type": "code",
   "execution_count": null,
   "metadata": {},
   "outputs": [],
   "source": [
    "# Function to predict a new sequence\n",
    "def decode_sequence(input_seq):\n",
    "    states_value = encoder_model.predict(input_seq)\n",
    "    target_seq = np.zeros((1, 1))\n",
    "    target_seq[0, 0] = fra_tokenizer.word_index['<start>']\n",
    "    stop_condition = False\n",
    "    decoded_sentence = ''\n",
    "    while not stop_condition:\n",
    "        output_tokens, h, c = decoder_model.predict([target_seq] + states_value)\n",
    "        sampled_token_index = np.argmax(output_tokens[0, -1, :])\n",
    "        sampled_word = list(fra_tokenizer.word_index.keys())[list(fra_tokenizer.word_index.values()).index(sampled_token_index)]\n",
    "        decoded_sentence += ' ' + sampled_word\n",
    "        if sampled_word == '<end>' or len(decoded_sentence) > max_fra_len:\n",
    "            stop_condition = True\n",
    "        target_seq = np.zeros((1, 1))\n",
    "        target_seq[0, 0] = sampled_token_index\n",
    "        states_value = [h, c]\n",
    "    return decoded_sentence\n"
   ]
  }
 ],
 "metadata": {
  "kernelspec": {
   "display_name": "Python 3",
   "language": "python",
   "name": "python3"
  },
  "language_info": {
   "codemirror_mode": {
    "name": "ipython",
    "version": 3
   },
   "file_extension": ".py",
   "mimetype": "text/x-python",
   "name": "python",
   "nbconvert_exporter": "python",
   "pygments_lexer": "ipython3",
   "version": "3.8.10"
  }
 },
 "nbformat": 4,
 "nbformat_minor": 2
}
